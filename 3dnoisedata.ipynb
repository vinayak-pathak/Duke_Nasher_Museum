{
 "cells": [
  {
   "cell_type": "code",
   "execution_count": 82,
   "id": "1a1ed3cb-8254-4e13-8db6-a28e7e69d7e0",
   "metadata": {},
   "outputs": [],
   "source": [
    "import open3d as o3d"
   ]
  },
  {
   "cell_type": "code",
   "execution_count": 3,
   "id": "7b9b5b99-5f2b-4d66-9b00-94270a5d0952",
   "metadata": {
    "tags": []
   },
   "outputs": [],
   "source": [
    "import numpy as np\n",
    "import matplotlib.pyplot as plt\n",
    "n1 = 15000\n",
    "n2 = 12000\n",
    "X = np.linspace(-1, 1, num=n1) # Meshgrid in X\n",
    "Y = np.linspace(-1, 1, num=n2) #Meshgrid in Y``\n",
    "[XX, YY] = np.meshgrid(X, Y)# Create  meshgrid of X and Y\n",
    "Z = 1-(XX)**2 -  (YY)**2\n",
    "noise = np.random.normal(0, 1, n1*n2) # The multiplicative factor multiplies a reasonable amount of noise to the parabolic surface... \n",
    "noise = np.reshape(noise, (n2, n1))*0.1\n",
    "Znoise = Z+noise\n",
    "\n",
    "#fig = plt.figure()\n",
    "#ax = fig.add_subplot(projection='3d')\n",
    "\n",
    "#ax.scatter(XX.reshape((-1, 1)), YY.reshape((-1, 1)), Znoise.reshape((-1, 1)))"
   ]
  },
  {
   "cell_type": "markdown",
   "id": "6acf62db-497d-4c71-9af0-e7882abbc143",
   "metadata": {},
   "source": [
    "This paraboloid is noisy in nature"
   ]
  },
  {
   "cell_type": "code",
   "execution_count": 4,
   "id": "d8018411-3c75-4f0b-9cc7-1ad43dba5e09",
   "metadata": {},
   "outputs": [],
   "source": [
    "import skimage.io\n",
    "img = skimage.io.imread('/home/vinayak/nasher_museum/image.jpeg')"
   ]
  },
  {
   "cell_type": "code",
   "execution_count": 5,
   "id": "968d3992-bd02-429b-a1ce-f45413edf059",
   "metadata": {},
   "outputs": [],
   "source": [
    "from skimage.transform import resize"
   ]
  },
  {
   "cell_type": "code",
   "execution_count": 6,
   "id": "26605b5e-c0e2-4319-b5e8-93771da62e9e",
   "metadata": {},
   "outputs": [],
   "source": [
    "img_resize = resize(img, (n2, n1), anti_aliasing = True)"
   ]
  },
  {
   "cell_type": "code",
   "execution_count": 7,
   "id": "4523c8b8-8e85-4c58-9cd8-11aea6e42610",
   "metadata": {},
   "outputs": [
    {
     "data": {
      "text/plain": [
       "(12000, 15000, 3)"
      ]
     },
     "execution_count": 7,
     "metadata": {},
     "output_type": "execute_result"
    }
   ],
   "source": [
    "img_resize.shape"
   ]
  },
  {
   "cell_type": "code",
   "execution_count": 8,
   "id": "9cd9b236-5e08-4180-90aa-7cfcb39c5c5e",
   "metadata": {},
   "outputs": [
    {
     "data": {
      "text/plain": [
       "(12000, 15000)"
      ]
     },
     "execution_count": 8,
     "metadata": {},
     "output_type": "execute_result"
    }
   ],
   "source": [
    "XX.shape"
   ]
  },
  {
   "cell_type": "code",
   "execution_count": 9,
   "id": "85681be3-a4ff-4118-a1df-54fe0d6d1e40",
   "metadata": {},
   "outputs": [],
   "source": [
    "rgbd = np.hstack((XX.reshape((-1,1)), YY.reshape((-1,1)), Z.reshape((-1,1)), img_resize[:,:, 0].reshape((-1, 1)), img_resize[:,:, 1].reshape((-1, 1)), img_resize[:,:, 2].reshape((-1, 1))))"
   ]
  },
  {
   "cell_type": "code",
   "execution_count": 10,
   "id": "effb24ad-c766-4b36-94bf-e682d93dadab",
   "metadata": {},
   "outputs": [],
   "source": [
    "pcd = rgbd[:, :3]"
   ]
  },
  {
   "cell_type": "code",
   "execution_count": 11,
   "id": "c4d08691-5b8e-40d9-9b0b-4f16cb7c0b0c",
   "metadata": {},
   "outputs": [
    {
     "data": {
      "text/plain": [
       "array([[-1.        , -1.        , -1.        ,  0.64813628,  0.67166569,\n",
       "         0.72656765],\n",
       "       [-0.99986666, -1.        , -0.99973333,  0.64823563,  0.67176504,\n",
       "         0.726667  ],\n",
       "       [-0.99973332, -1.        , -0.9994667 ,  0.64833498,  0.67186439,\n",
       "         0.72676635],\n",
       "       ...,\n",
       "       [ 0.99973332,  1.        , -0.9994667 ,  0.11608826,  0.1261765 ,\n",
       "         0.13980722],\n",
       "       [ 0.99986666,  1.        , -0.99973333,  0.11588956,  0.12597779,\n",
       "         0.13960851],\n",
       "       [ 1.        ,  1.        , -1.        ,  0.11569086,  0.12577909,\n",
       "         0.13940981]])"
      ]
     },
     "execution_count": 11,
     "metadata": {},
     "output_type": "execute_result"
    }
   ],
   "source": [
    "rgbd"
   ]
  },
  {
   "cell_type": "code",
   "execution_count": 12,
   "id": "42eb2903-ca74-4ca5-9c9a-a01fee036aca",
   "metadata": {},
   "outputs": [
    {
     "data": {
      "text/plain": [
       "array([[-1.        , -1.        , -1.        ],\n",
       "       [-0.99986666, -1.        , -0.99973333],\n",
       "       [-0.99973332, -1.        , -0.9994667 ],\n",
       "       ...,\n",
       "       [ 0.99973332,  1.        , -0.9994667 ],\n",
       "       [ 0.99986666,  1.        , -0.99973333],\n",
       "       [ 1.        ,  1.        , -1.        ]])"
      ]
     },
     "execution_count": 12,
     "metadata": {},
     "output_type": "execute_result"
    }
   ],
   "source": [
    "pcd"
   ]
  },
  {
   "cell_type": "code",
   "execution_count": 13,
   "id": "7b403343-25e0-47ee-b7e1-e077ca88b5c9",
   "metadata": {},
   "outputs": [],
   "source": [
    "pcd = rgbd[:,: 3]"
   ]
  },
  {
   "cell_type": "code",
   "execution_count": 14,
   "id": "dac6e7d2-9ac5-435f-aad7-b6ef9f81d19c",
   "metadata": {},
   "outputs": [
    {
     "data": {
      "text/plain": [
       "array([[-1.        , -1.        , -1.        ],\n",
       "       [-0.99986666, -1.        , -0.99973333],\n",
       "       [-0.99973332, -1.        , -0.9994667 ],\n",
       "       ...,\n",
       "       [ 0.99973332,  1.        , -0.9994667 ],\n",
       "       [ 0.99986666,  1.        , -0.99973333],\n",
       "       [ 1.        ,  1.        , -1.        ]])"
      ]
     },
     "execution_count": 14,
     "metadata": {},
     "output_type": "execute_result"
    }
   ],
   "source": [
    "pcd"
   ]
  },
  {
   "cell_type": "code",
   "execution_count": 15,
   "id": "a555565c-d014-4e25-9855-942fc53cd912",
   "metadata": {},
   "outputs": [
    {
     "data": {
      "text/plain": [
       "array([[-1.        ],\n",
       "       [-0.99973333],\n",
       "       [-0.9994667 ],\n",
       "       ...,\n",
       "       [-0.9994667 ],\n",
       "       [-0.99973333],\n",
       "       [-1.        ]])"
      ]
     },
     "execution_count": 15,
     "metadata": {},
     "output_type": "execute_result"
    }
   ],
   "source": [
    "Z.reshape((-1, 1))"
   ]
  },
  {
   "cell_type": "code",
   "execution_count": 34,
   "id": "565db539-6e9a-48f7-994c-bed808894a18",
   "metadata": {},
   "outputs": [],
   "source": [
    "image = rgbd[:, 3]"
   ]
  },
  {
   "cell_type": "code",
   "execution_count": 35,
   "id": "f572fa00-d6d4-485e-95e0-170c3b154b43",
   "metadata": {},
   "outputs": [],
   "source": [
    "import matplotlib.pyplot as plt"
   ]
  },
  {
   "cell_type": "code",
   "execution_count": 40,
   "id": "1550f556-1ad4-4c34-af1f-deee5a42ff6c",
   "metadata": {},
   "outputs": [
    {
     "ename": "TypeError",
     "evalue": "_reshape_dispatcher() missing 1 required positional argument: 'newshape'",
     "output_type": "error",
     "traceback": [
      "\u001b[0;31m---------------------------------------------------------------------------\u001b[0m",
      "\u001b[0;31mTypeError\u001b[0m                                 Traceback (most recent call last)",
      "Input \u001b[0;32mIn [40]\u001b[0m, in \u001b[0;36m<cell line: 1>\u001b[0;34m()\u001b[0m\n\u001b[0;32m----> 1\u001b[0m \u001b[43mnp\u001b[49m\u001b[38;5;241;43m.\u001b[39;49m\u001b[43mreshape\u001b[49m\u001b[43m(\u001b[49m\u001b[43mimage\u001b[49m\u001b[43m)\u001b[49m\n",
      "File \u001b[0;32m<__array_function__ internals>:4\u001b[0m, in \u001b[0;36mreshape\u001b[0;34m(*args, **kwargs)\u001b[0m\n",
      "\u001b[0;31mTypeError\u001b[0m: _reshape_dispatcher() missing 1 required positional argument: 'newshape'"
     ]
    }
   ],
   "source": []
  },
  {
   "cell_type": "code",
   "execution_count": 31,
   "id": "e81b4c05-85fc-4556-8e8d-4ebb4e16e384",
   "metadata": {},
   "outputs": [
    {
     "name": "stdout",
     "output_type": "stream",
     "text": [
      "Load a ply point cloud, print it, and render it\n"
     ]
    },
    {
     "ename": "NameError",
     "evalue": "name 'ply_point_cloud' is not defined",
     "output_type": "error",
     "traceback": [
      "\u001b[0;31m---------------------------------------------------------------------------\u001b[0m",
      "\u001b[0;31mNameError\u001b[0m                                 Traceback (most recent call last)",
      "Input \u001b[0;32mIn [31]\u001b[0m, in \u001b[0;36m<cell line: 6>\u001b[0;34m()\u001b[0m\n\u001b[1;32m      4\u001b[0m \u001b[38;5;66;03m#ply_point_cloud = o3d.data.PLYPointCloud()\u001b[39;00m\n\u001b[1;32m      5\u001b[0m pcd \u001b[38;5;241m=\u001b[39m o3d\u001b[38;5;241m.\u001b[39mgeometry\u001b[38;5;241m.\u001b[39mPointCloud()\n\u001b[0;32m----> 6\u001b[0m pcd \u001b[38;5;241m=\u001b[39m o3d\u001b[38;5;241m.\u001b[39mio\u001b[38;5;241m.\u001b[39mread_point_cloud(\u001b[43mply_point_cloud\u001b[49m\u001b[38;5;241m.\u001b[39mpath)\n\u001b[1;32m      7\u001b[0m pcd\u001b[38;5;241m.\u001b[39mpoints \u001b[38;5;241m=\u001b[39m o3d\u001b[38;5;241m.\u001b[39mutility\u001b[38;5;241m.\u001b[39mVector3dVector(rgbd[:,: \u001b[38;5;241m3\u001b[39m])\n\u001b[1;32m      8\u001b[0m pcd\u001b[38;5;241m.\u001b[39mcolors \u001b[38;5;241m=\u001b[39m image \n",
      "\u001b[0;31mNameError\u001b[0m: name 'ply_point_cloud' is not defined"
     ]
    }
   ],
   "source": [
    "import open3d as o3d\n",
    "import numpy as np\n",
    "print(\"Load a ply point cloud, print it, and render it\")\n",
    "#ply_point_cloud = o3d.data.PLYPointCloud()\n",
    "pcd = o3d.geometry.PointCloud()\n",
    "pcd = o3d.io.read_point_cloud(ply_point_cloud.path)\n",
    "pcd.points = o3d.utility.Vector3dVector(rgbd[:,: 3])\n",
    "pcd.colors = image\n",
    "#print(pcd)\n",
    "#print(np.asarray(pcd.points))\n",
    "o3d.visualization.draw_geometries([pcd],\n",
    "                                  zoom=0.3412,\n",
    "                                  front=[0.4257, -0.2125, -0.8795],\n",
    "                                  lookat=[2.6172, 2.0475, 1.532],\n",
    "                                  up=[-0.0694, -0.9768, 0.2024])"
   ]
  },
  {
   "cell_type": "code",
   "execution_count": 32,
   "id": "2b3a52eb-947b-4970-a3d7-3a0987f32727",
   "metadata": {},
   "outputs": [
    {
     "ename": "TypeError",
     "evalue": "Invalid shape (180000000,) for image data",
     "output_type": "error",
     "traceback": [
      "\u001b[0;31m---------------------------------------------------------------------------\u001b[0m",
      "\u001b[0;31mTypeError\u001b[0m                                 Traceback (most recent call last)",
      "Input \u001b[0;32mIn [32]\u001b[0m, in \u001b[0;36m<cell line: 1>\u001b[0;34m()\u001b[0m\n\u001b[0;32m----> 1\u001b[0m \u001b[43mplt\u001b[49m\u001b[38;5;241;43m.\u001b[39;49m\u001b[43mimshow\u001b[49m\u001b[43m(\u001b[49m\u001b[43mimage\u001b[49m\u001b[43m)\u001b[49m\n",
      "File \u001b[0;32m~/anaconda3/envs/mcam/lib/python3.8/site-packages/matplotlib/_api/deprecation.py:456\u001b[0m, in \u001b[0;36mmake_keyword_only.<locals>.wrapper\u001b[0;34m(*args, **kwargs)\u001b[0m\n\u001b[1;32m    450\u001b[0m \u001b[38;5;28;01mif\u001b[39;00m \u001b[38;5;28mlen\u001b[39m(args) \u001b[38;5;241m>\u001b[39m name_idx:\n\u001b[1;32m    451\u001b[0m     warn_deprecated(\n\u001b[1;32m    452\u001b[0m         since, message\u001b[38;5;241m=\u001b[39m\u001b[38;5;124m\"\u001b[39m\u001b[38;5;124mPassing the \u001b[39m\u001b[38;5;132;01m%(name)s\u001b[39;00m\u001b[38;5;124m \u001b[39m\u001b[38;5;132;01m%(obj_type)s\u001b[39;00m\u001b[38;5;124m \u001b[39m\u001b[38;5;124m\"\u001b[39m\n\u001b[1;32m    453\u001b[0m         \u001b[38;5;124m\"\u001b[39m\u001b[38;5;124mpositionally is deprecated since Matplotlib \u001b[39m\u001b[38;5;132;01m%(since)s\u001b[39;00m\u001b[38;5;124m; the \u001b[39m\u001b[38;5;124m\"\u001b[39m\n\u001b[1;32m    454\u001b[0m         \u001b[38;5;124m\"\u001b[39m\u001b[38;5;124mparameter will become keyword-only \u001b[39m\u001b[38;5;132;01m%(removal)s\u001b[39;00m\u001b[38;5;124m.\u001b[39m\u001b[38;5;124m\"\u001b[39m,\n\u001b[1;32m    455\u001b[0m         name\u001b[38;5;241m=\u001b[39mname, obj_type\u001b[38;5;241m=\u001b[39m\u001b[38;5;124mf\u001b[39m\u001b[38;5;124m\"\u001b[39m\u001b[38;5;124mparameter of \u001b[39m\u001b[38;5;132;01m{\u001b[39;00mfunc\u001b[38;5;241m.\u001b[39m\u001b[38;5;18m__name__\u001b[39m\u001b[38;5;132;01m}\u001b[39;00m\u001b[38;5;124m()\u001b[39m\u001b[38;5;124m\"\u001b[39m)\n\u001b[0;32m--> 456\u001b[0m \u001b[38;5;28;01mreturn\u001b[39;00m \u001b[43mfunc\u001b[49m\u001b[43m(\u001b[49m\u001b[38;5;241;43m*\u001b[39;49m\u001b[43margs\u001b[49m\u001b[43m,\u001b[49m\u001b[43m \u001b[49m\u001b[38;5;241;43m*\u001b[39;49m\u001b[38;5;241;43m*\u001b[39;49m\u001b[43mkwargs\u001b[49m\u001b[43m)\u001b[49m\n",
      "File \u001b[0;32m~/anaconda3/envs/mcam/lib/python3.8/site-packages/matplotlib/pyplot.py:2640\u001b[0m, in \u001b[0;36mimshow\u001b[0;34m(X, cmap, norm, aspect, interpolation, alpha, vmin, vmax, origin, extent, interpolation_stage, filternorm, filterrad, resample, url, data, **kwargs)\u001b[0m\n\u001b[1;32m   2634\u001b[0m \u001b[38;5;129m@_copy_docstring_and_deprecators\u001b[39m(Axes\u001b[38;5;241m.\u001b[39mimshow)\n\u001b[1;32m   2635\u001b[0m \u001b[38;5;28;01mdef\u001b[39;00m \u001b[38;5;21mimshow\u001b[39m(\n\u001b[1;32m   2636\u001b[0m         X, cmap\u001b[38;5;241m=\u001b[39m\u001b[38;5;28;01mNone\u001b[39;00m, norm\u001b[38;5;241m=\u001b[39m\u001b[38;5;28;01mNone\u001b[39;00m, aspect\u001b[38;5;241m=\u001b[39m\u001b[38;5;28;01mNone\u001b[39;00m, interpolation\u001b[38;5;241m=\u001b[39m\u001b[38;5;28;01mNone\u001b[39;00m,\n\u001b[1;32m   2637\u001b[0m         alpha\u001b[38;5;241m=\u001b[39m\u001b[38;5;28;01mNone\u001b[39;00m, vmin\u001b[38;5;241m=\u001b[39m\u001b[38;5;28;01mNone\u001b[39;00m, vmax\u001b[38;5;241m=\u001b[39m\u001b[38;5;28;01mNone\u001b[39;00m, origin\u001b[38;5;241m=\u001b[39m\u001b[38;5;28;01mNone\u001b[39;00m, extent\u001b[38;5;241m=\u001b[39m\u001b[38;5;28;01mNone\u001b[39;00m, \u001b[38;5;241m*\u001b[39m,\n\u001b[1;32m   2638\u001b[0m         interpolation_stage\u001b[38;5;241m=\u001b[39m\u001b[38;5;28;01mNone\u001b[39;00m, filternorm\u001b[38;5;241m=\u001b[39m\u001b[38;5;28;01mTrue\u001b[39;00m, filterrad\u001b[38;5;241m=\u001b[39m\u001b[38;5;241m4.0\u001b[39m,\n\u001b[1;32m   2639\u001b[0m         resample\u001b[38;5;241m=\u001b[39m\u001b[38;5;28;01mNone\u001b[39;00m, url\u001b[38;5;241m=\u001b[39m\u001b[38;5;28;01mNone\u001b[39;00m, data\u001b[38;5;241m=\u001b[39m\u001b[38;5;28;01mNone\u001b[39;00m, \u001b[38;5;241m*\u001b[39m\u001b[38;5;241m*\u001b[39mkwargs):\n\u001b[0;32m-> 2640\u001b[0m     __ret \u001b[38;5;241m=\u001b[39m \u001b[43mgca\u001b[49m\u001b[43m(\u001b[49m\u001b[43m)\u001b[49m\u001b[38;5;241;43m.\u001b[39;49m\u001b[43mimshow\u001b[49m\u001b[43m(\u001b[49m\n\u001b[1;32m   2641\u001b[0m \u001b[43m        \u001b[49m\u001b[43mX\u001b[49m\u001b[43m,\u001b[49m\u001b[43m \u001b[49m\u001b[43mcmap\u001b[49m\u001b[38;5;241;43m=\u001b[39;49m\u001b[43mcmap\u001b[49m\u001b[43m,\u001b[49m\u001b[43m \u001b[49m\u001b[43mnorm\u001b[49m\u001b[38;5;241;43m=\u001b[39;49m\u001b[43mnorm\u001b[49m\u001b[43m,\u001b[49m\u001b[43m \u001b[49m\u001b[43maspect\u001b[49m\u001b[38;5;241;43m=\u001b[39;49m\u001b[43maspect\u001b[49m\u001b[43m,\u001b[49m\n\u001b[1;32m   2642\u001b[0m \u001b[43m        \u001b[49m\u001b[43minterpolation\u001b[49m\u001b[38;5;241;43m=\u001b[39;49m\u001b[43minterpolation\u001b[49m\u001b[43m,\u001b[49m\u001b[43m \u001b[49m\u001b[43malpha\u001b[49m\u001b[38;5;241;43m=\u001b[39;49m\u001b[43malpha\u001b[49m\u001b[43m,\u001b[49m\u001b[43m \u001b[49m\u001b[43mvmin\u001b[49m\u001b[38;5;241;43m=\u001b[39;49m\u001b[43mvmin\u001b[49m\u001b[43m,\u001b[49m\n\u001b[1;32m   2643\u001b[0m \u001b[43m        \u001b[49m\u001b[43mvmax\u001b[49m\u001b[38;5;241;43m=\u001b[39;49m\u001b[43mvmax\u001b[49m\u001b[43m,\u001b[49m\u001b[43m \u001b[49m\u001b[43morigin\u001b[49m\u001b[38;5;241;43m=\u001b[39;49m\u001b[43morigin\u001b[49m\u001b[43m,\u001b[49m\u001b[43m \u001b[49m\u001b[43mextent\u001b[49m\u001b[38;5;241;43m=\u001b[39;49m\u001b[43mextent\u001b[49m\u001b[43m,\u001b[49m\n\u001b[1;32m   2644\u001b[0m \u001b[43m        \u001b[49m\u001b[43minterpolation_stage\u001b[49m\u001b[38;5;241;43m=\u001b[39;49m\u001b[43minterpolation_stage\u001b[49m\u001b[43m,\u001b[49m\n\u001b[1;32m   2645\u001b[0m \u001b[43m        \u001b[49m\u001b[43mfilternorm\u001b[49m\u001b[38;5;241;43m=\u001b[39;49m\u001b[43mfilternorm\u001b[49m\u001b[43m,\u001b[49m\u001b[43m \u001b[49m\u001b[43mfilterrad\u001b[49m\u001b[38;5;241;43m=\u001b[39;49m\u001b[43mfilterrad\u001b[49m\u001b[43m,\u001b[49m\u001b[43m \u001b[49m\u001b[43mresample\u001b[49m\u001b[38;5;241;43m=\u001b[39;49m\u001b[43mresample\u001b[49m\u001b[43m,\u001b[49m\n\u001b[1;32m   2646\u001b[0m \u001b[43m        \u001b[49m\u001b[43murl\u001b[49m\u001b[38;5;241;43m=\u001b[39;49m\u001b[43murl\u001b[49m\u001b[43m,\u001b[49m\u001b[43m \u001b[49m\u001b[38;5;241;43m*\u001b[39;49m\u001b[38;5;241;43m*\u001b[39;49m\u001b[43m(\u001b[49m\u001b[43m{\u001b[49m\u001b[38;5;124;43m\"\u001b[39;49m\u001b[38;5;124;43mdata\u001b[39;49m\u001b[38;5;124;43m\"\u001b[39;49m\u001b[43m:\u001b[49m\u001b[43m \u001b[49m\u001b[43mdata\u001b[49m\u001b[43m}\u001b[49m\u001b[43m \u001b[49m\u001b[38;5;28;43;01mif\u001b[39;49;00m\u001b[43m \u001b[49m\u001b[43mdata\u001b[49m\u001b[43m \u001b[49m\u001b[38;5;129;43;01mis\u001b[39;49;00m\u001b[43m \u001b[49m\u001b[38;5;129;43;01mnot\u001b[39;49;00m\u001b[43m \u001b[49m\u001b[38;5;28;43;01mNone\u001b[39;49;00m\u001b[43m \u001b[49m\u001b[38;5;28;43;01melse\u001b[39;49;00m\u001b[43m \u001b[49m\u001b[43m{\u001b[49m\u001b[43m}\u001b[49m\u001b[43m)\u001b[49m\u001b[43m,\u001b[49m\n\u001b[1;32m   2647\u001b[0m \u001b[43m        \u001b[49m\u001b[38;5;241;43m*\u001b[39;49m\u001b[38;5;241;43m*\u001b[39;49m\u001b[43mkwargs\u001b[49m\u001b[43m)\u001b[49m\n\u001b[1;32m   2648\u001b[0m     sci(__ret)\n\u001b[1;32m   2649\u001b[0m     \u001b[38;5;28;01mreturn\u001b[39;00m __ret\n",
      "File \u001b[0;32m~/anaconda3/envs/mcam/lib/python3.8/site-packages/matplotlib/_api/deprecation.py:456\u001b[0m, in \u001b[0;36mmake_keyword_only.<locals>.wrapper\u001b[0;34m(*args, **kwargs)\u001b[0m\n\u001b[1;32m    450\u001b[0m \u001b[38;5;28;01mif\u001b[39;00m \u001b[38;5;28mlen\u001b[39m(args) \u001b[38;5;241m>\u001b[39m name_idx:\n\u001b[1;32m    451\u001b[0m     warn_deprecated(\n\u001b[1;32m    452\u001b[0m         since, message\u001b[38;5;241m=\u001b[39m\u001b[38;5;124m\"\u001b[39m\u001b[38;5;124mPassing the \u001b[39m\u001b[38;5;132;01m%(name)s\u001b[39;00m\u001b[38;5;124m \u001b[39m\u001b[38;5;132;01m%(obj_type)s\u001b[39;00m\u001b[38;5;124m \u001b[39m\u001b[38;5;124m\"\u001b[39m\n\u001b[1;32m    453\u001b[0m         \u001b[38;5;124m\"\u001b[39m\u001b[38;5;124mpositionally is deprecated since Matplotlib \u001b[39m\u001b[38;5;132;01m%(since)s\u001b[39;00m\u001b[38;5;124m; the \u001b[39m\u001b[38;5;124m\"\u001b[39m\n\u001b[1;32m    454\u001b[0m         \u001b[38;5;124m\"\u001b[39m\u001b[38;5;124mparameter will become keyword-only \u001b[39m\u001b[38;5;132;01m%(removal)s\u001b[39;00m\u001b[38;5;124m.\u001b[39m\u001b[38;5;124m\"\u001b[39m,\n\u001b[1;32m    455\u001b[0m         name\u001b[38;5;241m=\u001b[39mname, obj_type\u001b[38;5;241m=\u001b[39m\u001b[38;5;124mf\u001b[39m\u001b[38;5;124m\"\u001b[39m\u001b[38;5;124mparameter of \u001b[39m\u001b[38;5;132;01m{\u001b[39;00mfunc\u001b[38;5;241m.\u001b[39m\u001b[38;5;18m__name__\u001b[39m\u001b[38;5;132;01m}\u001b[39;00m\u001b[38;5;124m()\u001b[39m\u001b[38;5;124m\"\u001b[39m)\n\u001b[0;32m--> 456\u001b[0m \u001b[38;5;28;01mreturn\u001b[39;00m \u001b[43mfunc\u001b[49m\u001b[43m(\u001b[49m\u001b[38;5;241;43m*\u001b[39;49m\u001b[43margs\u001b[49m\u001b[43m,\u001b[49m\u001b[43m \u001b[49m\u001b[38;5;241;43m*\u001b[39;49m\u001b[38;5;241;43m*\u001b[39;49m\u001b[43mkwargs\u001b[49m\u001b[43m)\u001b[49m\n",
      "File \u001b[0;32m~/anaconda3/envs/mcam/lib/python3.8/site-packages/matplotlib/__init__.py:1412\u001b[0m, in \u001b[0;36m_preprocess_data.<locals>.inner\u001b[0;34m(ax, data, *args, **kwargs)\u001b[0m\n\u001b[1;32m   1409\u001b[0m \u001b[38;5;129m@functools\u001b[39m\u001b[38;5;241m.\u001b[39mwraps(func)\n\u001b[1;32m   1410\u001b[0m \u001b[38;5;28;01mdef\u001b[39;00m \u001b[38;5;21minner\u001b[39m(ax, \u001b[38;5;241m*\u001b[39margs, data\u001b[38;5;241m=\u001b[39m\u001b[38;5;28;01mNone\u001b[39;00m, \u001b[38;5;241m*\u001b[39m\u001b[38;5;241m*\u001b[39mkwargs):\n\u001b[1;32m   1411\u001b[0m     \u001b[38;5;28;01mif\u001b[39;00m data \u001b[38;5;129;01mis\u001b[39;00m \u001b[38;5;28;01mNone\u001b[39;00m:\n\u001b[0;32m-> 1412\u001b[0m         \u001b[38;5;28;01mreturn\u001b[39;00m \u001b[43mfunc\u001b[49m\u001b[43m(\u001b[49m\u001b[43max\u001b[49m\u001b[43m,\u001b[49m\u001b[43m \u001b[49m\u001b[38;5;241;43m*\u001b[39;49m\u001b[38;5;28;43mmap\u001b[39;49m\u001b[43m(\u001b[49m\u001b[43msanitize_sequence\u001b[49m\u001b[43m,\u001b[49m\u001b[43m \u001b[49m\u001b[43margs\u001b[49m\u001b[43m)\u001b[49m\u001b[43m,\u001b[49m\u001b[43m \u001b[49m\u001b[38;5;241;43m*\u001b[39;49m\u001b[38;5;241;43m*\u001b[39;49m\u001b[43mkwargs\u001b[49m\u001b[43m)\u001b[49m\n\u001b[1;32m   1414\u001b[0m     bound \u001b[38;5;241m=\u001b[39m new_sig\u001b[38;5;241m.\u001b[39mbind(ax, \u001b[38;5;241m*\u001b[39margs, \u001b[38;5;241m*\u001b[39m\u001b[38;5;241m*\u001b[39mkwargs)\n\u001b[1;32m   1415\u001b[0m     auto_label \u001b[38;5;241m=\u001b[39m (bound\u001b[38;5;241m.\u001b[39marguments\u001b[38;5;241m.\u001b[39mget(label_namer)\n\u001b[1;32m   1416\u001b[0m                   \u001b[38;5;129;01mor\u001b[39;00m bound\u001b[38;5;241m.\u001b[39mkwargs\u001b[38;5;241m.\u001b[39mget(label_namer))\n",
      "File \u001b[0;32m~/anaconda3/envs/mcam/lib/python3.8/site-packages/matplotlib/axes/_axes.py:5488\u001b[0m, in \u001b[0;36mAxes.imshow\u001b[0;34m(self, X, cmap, norm, aspect, interpolation, alpha, vmin, vmax, origin, extent, interpolation_stage, filternorm, filterrad, resample, url, **kwargs)\u001b[0m\n\u001b[1;32m   5481\u001b[0m \u001b[38;5;28mself\u001b[39m\u001b[38;5;241m.\u001b[39mset_aspect(aspect)\n\u001b[1;32m   5482\u001b[0m im \u001b[38;5;241m=\u001b[39m mimage\u001b[38;5;241m.\u001b[39mAxesImage(\u001b[38;5;28mself\u001b[39m, cmap, norm, interpolation,\n\u001b[1;32m   5483\u001b[0m                       origin, extent, filternorm\u001b[38;5;241m=\u001b[39mfilternorm,\n\u001b[1;32m   5484\u001b[0m                       filterrad\u001b[38;5;241m=\u001b[39mfilterrad, resample\u001b[38;5;241m=\u001b[39mresample,\n\u001b[1;32m   5485\u001b[0m                       interpolation_stage\u001b[38;5;241m=\u001b[39minterpolation_stage,\n\u001b[1;32m   5486\u001b[0m                       \u001b[38;5;241m*\u001b[39m\u001b[38;5;241m*\u001b[39mkwargs)\n\u001b[0;32m-> 5488\u001b[0m \u001b[43mim\u001b[49m\u001b[38;5;241;43m.\u001b[39;49m\u001b[43mset_data\u001b[49m\u001b[43m(\u001b[49m\u001b[43mX\u001b[49m\u001b[43m)\u001b[49m\n\u001b[1;32m   5489\u001b[0m im\u001b[38;5;241m.\u001b[39mset_alpha(alpha)\n\u001b[1;32m   5490\u001b[0m \u001b[38;5;28;01mif\u001b[39;00m im\u001b[38;5;241m.\u001b[39mget_clip_path() \u001b[38;5;129;01mis\u001b[39;00m \u001b[38;5;28;01mNone\u001b[39;00m:\n\u001b[1;32m   5491\u001b[0m     \u001b[38;5;66;03m# image does not already have clipping set, clip to axes patch\u001b[39;00m\n",
      "File \u001b[0;32m~/anaconda3/envs/mcam/lib/python3.8/site-packages/matplotlib/image.py:715\u001b[0m, in \u001b[0;36m_ImageBase.set_data\u001b[0;34m(self, A)\u001b[0m\n\u001b[1;32m    711\u001b[0m     \u001b[38;5;28mself\u001b[39m\u001b[38;5;241m.\u001b[39m_A \u001b[38;5;241m=\u001b[39m \u001b[38;5;28mself\u001b[39m\u001b[38;5;241m.\u001b[39m_A[:, :, \u001b[38;5;241m0\u001b[39m]\n\u001b[1;32m    713\u001b[0m \u001b[38;5;28;01mif\u001b[39;00m \u001b[38;5;129;01mnot\u001b[39;00m (\u001b[38;5;28mself\u001b[39m\u001b[38;5;241m.\u001b[39m_A\u001b[38;5;241m.\u001b[39mndim \u001b[38;5;241m==\u001b[39m \u001b[38;5;241m2\u001b[39m\n\u001b[1;32m    714\u001b[0m         \u001b[38;5;129;01mor\u001b[39;00m \u001b[38;5;28mself\u001b[39m\u001b[38;5;241m.\u001b[39m_A\u001b[38;5;241m.\u001b[39mndim \u001b[38;5;241m==\u001b[39m \u001b[38;5;241m3\u001b[39m \u001b[38;5;129;01mand\u001b[39;00m \u001b[38;5;28mself\u001b[39m\u001b[38;5;241m.\u001b[39m_A\u001b[38;5;241m.\u001b[39mshape[\u001b[38;5;241m-\u001b[39m\u001b[38;5;241m1\u001b[39m] \u001b[38;5;129;01min\u001b[39;00m [\u001b[38;5;241m3\u001b[39m, \u001b[38;5;241m4\u001b[39m]):\n\u001b[0;32m--> 715\u001b[0m     \u001b[38;5;28;01mraise\u001b[39;00m \u001b[38;5;167;01mTypeError\u001b[39;00m(\u001b[38;5;124m\"\u001b[39m\u001b[38;5;124mInvalid shape \u001b[39m\u001b[38;5;132;01m{}\u001b[39;00m\u001b[38;5;124m for image data\u001b[39m\u001b[38;5;124m\"\u001b[39m\n\u001b[1;32m    716\u001b[0m                     \u001b[38;5;241m.\u001b[39mformat(\u001b[38;5;28mself\u001b[39m\u001b[38;5;241m.\u001b[39m_A\u001b[38;5;241m.\u001b[39mshape))\n\u001b[1;32m    718\u001b[0m \u001b[38;5;28;01mif\u001b[39;00m \u001b[38;5;28mself\u001b[39m\u001b[38;5;241m.\u001b[39m_A\u001b[38;5;241m.\u001b[39mndim \u001b[38;5;241m==\u001b[39m \u001b[38;5;241m3\u001b[39m:\n\u001b[1;32m    719\u001b[0m     \u001b[38;5;66;03m# If the input data has values outside the valid range (after\u001b[39;00m\n\u001b[1;32m    720\u001b[0m     \u001b[38;5;66;03m# normalisation), we issue a warning and then clip X to the bounds\u001b[39;00m\n\u001b[1;32m    721\u001b[0m     \u001b[38;5;66;03m# - otherwise casting wraps extreme values, hiding outliers and\u001b[39;00m\n\u001b[1;32m    722\u001b[0m     \u001b[38;5;66;03m# making reliable interpretation impossible.\u001b[39;00m\n\u001b[1;32m    723\u001b[0m     high \u001b[38;5;241m=\u001b[39m \u001b[38;5;241m255\u001b[39m \u001b[38;5;28;01mif\u001b[39;00m np\u001b[38;5;241m.\u001b[39missubdtype(\u001b[38;5;28mself\u001b[39m\u001b[38;5;241m.\u001b[39m_A\u001b[38;5;241m.\u001b[39mdtype, np\u001b[38;5;241m.\u001b[39minteger) \u001b[38;5;28;01melse\u001b[39;00m \u001b[38;5;241m1\u001b[39m\n",
      "\u001b[0;31mTypeError\u001b[0m: Invalid shape (180000000,) for image data"
     ]
    },
    {
     "data": {
      "image/png": "[encoded data removed]",
      "text/plain": [
       "<Figure size 432x288 with 1 Axes>"
      ]
     },
     "metadata": {
      "needs_background": "light"
     },
     "output_type": "display_data"
    }
   ],
   "source": [
    "plt.imshow(image)"
   ]
  },
  {
   "cell_type": "code",
   "execution_count": 30,
   "id": "1fead5ae-6a9d-4fd8-bba7-18bf28fd2c15",
   "metadata": {},
   "outputs": [
    {
     "data": {
      "text/plain": [
       "array([[-1.        , -1.        , -1.        ],\n",
       "       [-0.99986666, -1.        , -0.99973333],\n",
       "       [-0.99973332, -1.        , -0.9994667 ],\n",
       "       ...,\n",
       "       [ 0.99973332,  1.        , -0.9994667 ],\n",
       "       [ 0.99986666,  1.        , -0.99973333],\n",
       "       [ 1.        ,  1.        , -1.        ]])"
      ]
     },
     "execution_count": 30,
     "metadata": {},
     "output_type": "execute_result"
    }
   ],
   "source": [
    "rgbd[:, :3]"
   ]
  },
  {
   "cell_type": "raw",
   "id": "aa7608c6-673c-42fb-b4dc-4e2505fc662e",
   "metadata": {},
   "source": [
    "Connect to Web socket.\n",
    "\n",
    "1. Web Socket\n",
    "2. Choose\n",
    "3. \n",
    "4."
   ]
  },
  {
   "cell_type": "code",
   "execution_count": 266,
   "id": "40f1e285-984c-462b-a4c3-4a2b7305f0c5",
   "metadata": {},
   "outputs": [],
   "source": [
    "import open3d as o3d\n",
    "#o3d.visualization.webrtc_server.enable_webrtc()"
   ]
  },
  {
   "cell_type": "code",
   "execution_count": 222,
   "id": "79eafc6c-cb98-4a61-b4eb-5ab5c54c8b87",
   "metadata": {},
   "outputs": [
    {
     "ename": "SyntaxError",
     "evalue": "invalid syntax (696659979.py, line 1)",
     "output_type": "error",
     "traceback": [
      "\u001b[0;36m  Input \u001b[0;32mIn [222]\u001b[0;36m\u001b[0m\n\u001b[0;31m    np.asarray(pcd.points).\u001b[0m\n\u001b[0m                           ^\u001b[0m\n\u001b[0;31mSyntaxError\u001b[0m\u001b[0;31m:\u001b[0m invalid syntax\n"
     ]
    }
   ],
   "source": [
    "np.asarray(pcd.points)"
   ]
  },
  {
   "cell_type": "code",
   "execution_count": 234,
   "id": "34025896-f77c-4bb2-8357-432b23c11990",
   "metadata": {},
   "outputs": [
    {
     "data": {
      "text/plain": [
       "(1800000, 6)"
      ]
     },
     "execution_count": 234,
     "metadata": {},
     "output_type": "execute_result"
    }
   ],
   "source": [
    "rgbd.shape"
   ]
  },
  {
   "cell_type": "code",
   "execution_count": 235,
   "id": "e3034c50-8cb2-44c0-be16-69b0da7d5885",
   "metadata": {},
   "outputs": [
    {
     "data": {
      "text/plain": [
       "array([[0.72764733],\n",
       "       [0.72774428],\n",
       "       [0.72633851],\n",
       "       ...,\n",
       "       [0.13895153],\n",
       "       [0.14176307],\n",
       "       [0.14156917]])"
      ]
     },
     "execution_count": 235,
     "metadata": {},
     "output_type": "execute_result"
    }
   ],
   "source": [
    "img_resize[:,:, 2].reshape((-1,1))"
   ]
  },
  {
   "cell_type": "code",
   "execution_count": 236,
   "id": "53a9de67-696a-4bca-9a84-de0adb3e2760",
   "metadata": {},
   "outputs": [
    {
     "data": {
      "text/plain": [
       "<matplotlib.image.AxesImage at 0x7fb506341550>"
      ]
     },
     "execution_count": 236,
     "metadata": {},
     "output_type": "execute_result"
    },
    {
     "data": {
      "image/png": "[encoded data removed]",
      "text/plain": [
       "<Figure size 432x288 with 1 Axes>"
      ]
     },
     "metadata": {
      "needs_background": "light"
     },
     "output_type": "display_data"
    }
   ],
   "source": [
    "plt.imshow(rgbd[:, 3:6].reshape(n2, n1, 3))"
   ]
  },
  {
   "cell_type": "code",
   "execution_count": 154,
   "id": "d61554d0-25a4-4e52-b6be-3b2d88dc6203",
   "metadata": {},
   "outputs": [],
   "source": [
    "coordinates= open(\"text.txt\", \"w\")\n",
    "for row in rgbd:\n",
    "    np.savetxt(coordinates, row)\n",
    "coordinates.close()"
   ]
  },
  {
   "cell_type": "code",
   "execution_count": 155,
   "id": "b8ecb199-dc53-47f3-a448-274f5104b052",
   "metadata": {},
   "outputs": [
    {
     "data": {
      "text/plain": [
       "(1800000, 3)"
      ]
     },
     "execution_count": 155,
     "metadata": {},
     "output_type": "execute_result"
    }
   ],
   "source": [
    "rgbd[:, : 3].shape"
   ]
  },
  {
   "cell_type": "code",
   "execution_count": 156,
   "id": "29af1522-78d7-4d03-9efb-64fb33618a30",
   "metadata": {},
   "outputs": [
    {
     "data": {
      "text/plain": [
       "(1800000, 6)"
      ]
     },
     "execution_count": 156,
     "metadata": {},
     "output_type": "execute_result"
    }
   ],
   "source": [
    "rgbd.shape"
   ]
  },
  {
   "cell_type": "code",
   "execution_count": 157,
   "id": "e438f53c-ccb0-451f-9b57-fce6f5a0471e",
   "metadata": {},
   "outputs": [],
   "source": [
    "#rgbd[:, 3:6] = rgbd[:, 3:6]"
   ]
  },
  {
   "cell_type": "code",
   "execution_count": 158,
   "id": "0a5bfeac-2c28-4596-b4aa-a086e06bb5dd",
   "metadata": {},
   "outputs": [],
   "source": [
    "#rgbd[:, :3].shape"
   ]
  },
  {
   "cell_type": "code",
   "execution_count": 290,
   "id": "4a13fb37-5a2b-4adf-8995-50075a7aa11f",
   "metadata": {},
   "outputs": [],
   "source": [
    "import open3d as o3d\n",
    "pcd = o3d.geometry.PointCloud()\n",
    "pcd.points = o3d.utility.Vector3dVector(rgbd[:, :3])\n",
    "o3d.visualization.draw_geometries([pcd])          "
   ]
  },
  {
   "cell_type": "code",
   "execution_count": null,
   "id": "5f97bef4-7754-4f8d-b048-da9acdca873e",
   "metadata": {},
   "outputs": [],
   "source": []
  },
  {
   "cell_type": "code",
   "execution_count": 117,
   "id": "7855c8cc-e901-4d49-81a9-5157a0b2581d",
   "metadata": {},
   "outputs": [],
   "source": [
    "pcd_numpy = np.asarray(pcd)"
   ]
  },
  {
   "cell_type": "code",
   "execution_count": 24,
   "id": "4417784d-8d47-4754-aad5-23075bed2de0",
   "metadata": {},
   "outputs": [
    {
     "name": "stdout",
     "output_type": "stream",
     "text": [
      "\u001b[1;33m[Open3D WARNING] Write PLY failed: point cloud has 0 points.\u001b[0;m\n"
     ]
    },
    {
     "data": {
      "text/plain": [
       "False"
      ]
     },
     "execution_count": 24,
     "metadata": {},
     "output_type": "execute_result"
    }
   ],
   "source": [
    "o3d.io.write_point_cloud(\"./nasher_museum/coordinates_2.ply\", pcd)"
   ]
  },
  {
   "cell_type": "code",
   "execution_count": 239,
   "id": "70309835-c732-48d3-8560-15d33bd9fa3c",
   "metadata": {},
   "outputs": [
    {
     "name": "stdout",
     "output_type": "stream",
     "text": [
      "Load a ply point cloud, print it, and render it\n",
      "PointCloud with 196133 points.\n",
      "[[0.65234375 0.84686458 2.37890625]\n",
      " [0.65234375 0.83984375 2.38430572]\n",
      " [0.66737998 0.83984375 2.37890625]\n",
      " ...\n",
      " [2.00839925 2.39453125 1.88671875]\n",
      " [2.00390625 2.39488506 1.88671875]\n",
      " [2.00390625 2.39453125 1.88793314]]\n"
     ]
    }
   ],
   "source": [
    "print(\"Load a ply point cloud, print it, and render it\")\n",
    "#ply_point_cloud = o3d.data.PLYPointCloud()\n",
    "#pcd = o3d.io.read_point_cloud(ply_point_cloud.path)\n",
    "print(pcd)\n",
    "print(np.asarray(pcd.points))\n",
    "o3d.visualization.draw_geometries([pcd],\n",
    "                                  zoom=0.3412,\n",
    "                                  front=[0.4257, -0.2125, -0.8795],\n",
    "                                  lookat=[2.6172, 2.0475, 1.532],\n",
    "                                  up=[-0.0694, -0.9768, 0.2024])"
   ]
  },
  {
   "cell_type": "code",
   "execution_count": 1,
   "id": "22177e00-2832-4598-b73a-f5415183a151",
   "metadata": {},
   "outputs": [
    {
     "name": "stdout",
     "output_type": "stream",
     "text": [
      "Jupyter environment detected. Enabling Open3D WebVisualizer.\n",
      "[Open3D INFO] WebRTC GUI backend enabled.\n",
      "[Open3D INFO] WebRTCWindowSystem: HTTP handshake server disabled.\n",
      "[Open3D INFO] WebRTC GUI backend enabled.\n"
     ]
    },
    {
     "ename": "RuntimeError",
     "evalue": "\u001b[1;31m[Open3D Error] (void open3d::visualization::gui::Application::SetWindowSystem(std::shared_ptr<open3d::visualization::gui::WindowSystem>)) /root/Open3D/cpp/open3d/visualization/gui/Application.cpp:355: Cannot set WindowSystem. It is already set.\n\u001b[0;m",
     "output_type": "error",
     "traceback": [
      "\u001b[0;31m---------------------------------------------------------------------------\u001b[0m",
      "\u001b[0;31mRuntimeError\u001b[0m                              Traceback (most recent call last)",
      "Input \u001b[0;32mIn [1]\u001b[0m, in \u001b[0;36m<cell line: 31>\u001b[0;34m()\u001b[0m\n\u001b[1;32m     30\u001b[0m \u001b[38;5;28;01mfrom\u001b[39;00m \u001b[38;5;21;01mskimage\u001b[39;00m\u001b[38;5;21;01m.\u001b[39;00m\u001b[38;5;21;01mtransform\u001b[39;00m \u001b[38;5;28;01mimport\u001b[39;00m resize\n\u001b[1;32m     31\u001b[0m \u001b[38;5;28;01mif\u001b[39;00m \u001b[38;5;18m__name__\u001b[39m \u001b[38;5;241m==\u001b[39m \u001b[38;5;124m\"\u001b[39m\u001b[38;5;124m__main__\u001b[39m\u001b[38;5;124m\"\u001b[39m:\n\u001b[0;32m---> 32\u001b[0m     \u001b[43mo3d\u001b[49m\u001b[38;5;241;43m.\u001b[39;49m\u001b[43mvisualization\u001b[49m\u001b[38;5;241;43m.\u001b[39;49m\u001b[43mwebrtc_server\u001b[49m\u001b[38;5;241;43m.\u001b[39;49m\u001b[43menable_webrtc\u001b[49m\u001b[43m(\u001b[49m\u001b[43m)\u001b[49m \u001b[38;5;66;03m# To enable visualization on web browser rather than local window\u001b[39;00m\n\u001b[1;32m     33\u001b[0m     n1 \u001b[38;5;241m=\u001b[39m \u001b[38;5;241m15000\u001b[39m \u001b[38;5;66;03m#Pixel size in x\u001b[39;00m\n\u001b[1;32m     34\u001b[0m     n2 \u001b[38;5;241m=\u001b[39m \u001b[38;5;241m12000\u001b[39m \u001b[38;5;66;03m#Pixel size in y\u001b[39;00m\n",
      "\u001b[0;31mRuntimeError\u001b[0m: \u001b[1;31m[Open3D Error] (void open3d::visualization::gui::Application::SetWindowSystem(std::shared_ptr<open3d::visualization::gui::WindowSystem>)) /root/Open3D/cpp/open3d/visualization/gui/Application.cpp:355: Cannot set WindowSystem. It is already set.\n\u001b[0;m"
     ]
    }
   ],
   "source": [
    "# ----------------------------------------------------------------------------\n",
    "# -                        Open3D: www.open3d.org                            -\n",
    "# ----------------------------------------------------------------------------\n",
    "# The MIT License (MIT)\n",
    "#\n",
    "# Copyright (c) 2018-2021 www.open3d.org\n",
    "#\n",
    "# Permission is hereby granted, free of charge, to any person obtaining a copy\n",
    "# of this software and associated documentation files (the \"Software\"), to deal\n",
    "# in the Software without restriction, including without limitation the rights\n",
    "# to use, copy, modify, merge, publish, distribute, sublicense, and/or sell\n",
    "# copies of the Software, and to permit persons to whom the Software is\n",
    "# furnished to do so, subject to the following conditions:\n",
    "#\n",
    "# The above copyright notice and this permission notice shall be included in\n",
    "# all copies or substantial portions of the Software.\n",
    "#\n",
    "# THE SOFTWARE IS PROVIDED \"AS IS\", WITHOUT WARRANTY OF ANY KIND, EXPRESS OR\n",
    "# IMPLIED, INCLUDING BUT NOT LIMITED TO THE WARRANTIES OF MERCHANTABILITY,\n",
    "# FITNESS FOR A PARTICULAR PURPOSE AND NONINFRINGEMENT. IN NO EVENT SHALL THE\n",
    "# AUTHORS OR COPYRIGHT HOLDERS BE LIABLE FOR ANY CLAIM, DAMAGES OR OTHER\n",
    "# LIABILITY, WHETHER IN AN ACTION OF CONTRACT, TORT OR OTHERWISE, ARISING\n",
    "# FROM, OUT OF OR IN CONNECTION WITH THE SOFTWARE OR THE USE OR OTHER DEALINGS\n",
    "# IN THE SOFTWARE.\n",
    "# ----------------------------------------------------------------------------\n",
    "import open3d as o3d # Using open 3d software as visualizer\n",
    "import numpy as np\n",
    "import matplotlib.pyplot as plt\n",
    "import skimage.io\n",
    "from skimage.transform import resize\n",
    "if __name__ == \"__main__\":\n",
    "    o3d.visualization.webrtc_server.enable_webrtc() # To enable visualization on web browser rather than local window\n",
    "    n1 = 15000 #Pixel size in x\n",
    "    n2 = 12000 #Pixel size in y\n",
    "    X = np.linspace(-1, 1, num=n1) # Meshgrid in X\n",
    "    Y = np.linspace(-1, 1, num=n2) #Meshgrid in Y``\n",
    "    [XX, YY] = np.meshgrid(X, Y)# Create  meshgrid of X and Y\n",
    "    Z = -(XX)**2 -  (YY)**2 # Create parabola surface\n",
    "    noise = np.random.normal(0, 1, n1*n2)  \n",
    "    noise = np.reshape(noise, (n2, n1))*0.1 # The multiplicative factor multiplies a reasonable amount of noise to be added to the parabolic surface...\n",
    "    Znoise = Z+noise # Adding noise to the parabola\n",
    "        #fig = plt.figure()\n",
    "        #ax = fig.add_subplot(projection='3d')\n",
    "        #ax.scatter(XX.reshape((-1, 1)), YY.reshape((-1, 1)), Znoise.reshape((-1, 1)))\n",
    "    img = skimage.io.imread('/home/vinayak/nasher_museum/image.jpeg')\n",
    "    rgbd = np.hstack((XX.reshape((-1,1)), YY.reshape((-1,1)), Z.reshape((-1,1)), img_resize[:,:, 0].reshape((-1, 1)), img_resize[:,:, 1].reshape((-1, 1)), img_resize[:,:, 2].reshape((-1, 1))))\n",
    "    pcd = rgbd[:, :3]\n",
    "    pcd = o3d.geometry.PointCloud()\n",
    "    pcd.points = o3d.utility.Vector3dVector(rgbd[:, :3])\n",
    "    pcd.colors = o3d.utility.Vector3dVector(rgbd[:, 3:])\n",
    "    \n",
    "    #o3d.visualization.draw([pcd]) # Draws the parabolic visualization\n",
    "\n"
   ]
  },
  {
   "cell_type": "markdown",
   "id": "52e742b6-5e10-411c-beb7-cff1426c801c",
   "metadata": {},
   "source": [
    "## Save point cloud without meshing in form of .las or other formats"
   ]
  },
  {
   "cell_type": "markdown",
   "id": "508fab70-af3f-4ec1-accb-c4459e228ffb",
   "metadata": {},
   "source": [
    "## Save point cloud with meshing"
   ]
  },
  {
   "cell_type": "code",
   "execution_count": 20,
   "id": "5c907e0a-dfe1-482a-acf0-f079d2122b9f",
   "metadata": {},
   "outputs": [
    {
     "data": {
      "text/plain": [
       "True"
      ]
     },
     "execution_count": 20,
     "metadata": {},
     "output_type": "execute_result"
    }
   ],
   "source": [
    "# ----------------------------------------------------------------------------\n",
    "# -                        Open3D: www.open3d.org                            -\n",
    "# ----------------------------------------------------------------------------\n",
    "# The MIT License (MIT)\n",
    "#\n",
    "# Copyright (c) 2018-2021 www.open3d.org\n",
    "#\n",
    "# Permission is hereby granted, free of charge, to any person obtaining a copy\n",
    "# of this software and associated documentation files (the \"Software\"), to deal\n",
    "# in the Software without restriction, including without limitation the rights\n",
    "# to use, copy, modify, merge, publish, distribute, sublicense, and/or sell\n",
    "# copies of the Software, and to permit persons to whom the Software is\n",
    "# furnished to do so, subject to the following conditions:\n",
    "#\n",
    "# The above copyright notice and this permission notice shall be included in\n",
    "# all copies or substantial portions of the Software.\n",
    "#\n",
    "# THE SOFTWARE IS PROVIDED \"AS IS\", WITHOUT WARRANTY OF ANY KIND, EXPRESS OR\n",
    "# IMPLIED, INCLUDING BUT NOT LIMITED TO THE WARRANTIES OF MERCHANTABILITY,\n",
    "# FITNESS FOR A PARTICULAR PURPOSE AND NONINFRINGEMENT. IN NO EVENT SHALL THE\n",
    "# AUTHORS OR COPYRIGHT HOLDERS BE LIABLE FOR ANY CLAIM, DAMAGES OR OTHER\n",
    "# LIABILITY, WHETHER IN AN ACTION OF CONTRACT, TORT OR OTHERWISE, ARISING\n",
    "# FROM, OUT OF OR IN CONNECTION WITH THE SOFTWARE OR THE USE OR OTHER DEALINGS\n",
    "# IN THE SOFTWARE.\n",
    "# ----------------------------------------------------------------------------\n",
    "import open3d as o3d # Using open 3d software as visualizer\n",
    "import numpy as np\n",
    "import matplotlib.pyplot as plt\n",
    "import skimage.io\n",
    "from skimage.transform import resize\n",
    "#if __name__ == \"__main__\":\n",
    "    #o3d.visualization.webrtc_server.enable_webrtc() # To enable visualization on web browser rather than local window\n",
    "n1 = 1500 #Pixel size in x\n",
    "n2 = 1200 #Pixel size in y\n",
    "X = np.linspace(-1, 1, num=n1) # Meshgrid in X\n",
    "Y = np.linspace(-1, 1, num=n2) #Meshgrid in Y``\n",
    "[XX, YY] = np.meshgrid(X, Y)# Create  meshgrid of X and Y\n",
    "Z = -(XX)**2 -  (YY)**2 # Create parabola surface\n",
    "Znorm = -2*XX - 2*YY\n",
    "noise = np.random.normal(0, 1, n1*n2)  \n",
    "noise = np.reshape(noise, (n2, n1))*0.1 # The multiplicative factor multiplies a reasonable amount of noise to be added to the parabolic surface...\n",
    "Znoise = Z+noise # Adding noise to the parabola\n",
    "        #fig = plt.figure()\n",
    "        #ax = fig.add_subplot(projection='3d')\n",
    "        #ax.scatter(XX.reshape((-1, 1)), YY.reshape((-1, 1)), Znoise.reshape((-1, 1)))\n",
    "img = skimage.io.imread('/home/vinayak/nasher_museum/image.jpeg')\n",
    "img_resize = resize(img, (n1, n2), anti_aliasing = True)\n",
    "rgbd = np.hstack((XX.reshape((-1,1)), YY.reshape((-1,1)), Z.reshape((-1,1)), img_resize[:,:, 0].reshape((-1, 1)), img_resize[:,:, 1].reshape((-1, 1)), img_resize[:,:, 2].reshape((-1, 1))))\n",
    "\n",
    "pcd = rgbd[:, :3]\n",
    "pcd = o3d.geometry.PointCloud()\n",
    "pcd.points = o3d.utility.Vector3dVector(rgbd[:, :3])\n",
    "pcd.colors = o3d.utility.Vector3dVector(rgbd[:, 3:])\n",
    "#alpha = 0.0001\n",
    "#mesh = o3d.geometry.TriangleMesh.create_from_point_cloud_alpha_shape(pcd, alpha)\n",
    "#mesh.compute_vertex_normals()\n",
    "\n",
    "#open3d.io.write_triangle_mesh(\"sample.gltf\", mesh, write_ascii=False, compressed=False, write_vertex_normals=True, write_vertex_colors=True, write_triangle_uvs=True, print_progress=False)\n",
    "\n",
    "#with o3d.utility.VerbosityContextManager(o3d.utility.VerbosityLevel.Debug) as cm:\n",
    " #   mesh, densities = o3d.geometry.TriangleMesh.create_from_point_cloud_poisson(pcd, depth=9)\n",
    "#print(mesh)\n",
    "\n",
    "\n",
    "#o3d.io.write_triangle_mesh(output_path+\"bpa_mesh.gltf\", dec_mesh)\n",
    "#o3d.io.write_point_cloud(\"testname.glb\", pcd, write_ascii=False, compressed=False, print_progress=False)\n",
    "\n",
    "\n",
    "\n",
    "    ##Meshing\n",
    "#distances = pcd.compute_nearest_neighbor_distance()\n",
    "#avg_dist = np.mean(distances)\n",
    "#radius = 3 * avg_dist\n",
    "    \n",
    "#bpa_mesh = o3d.geometry.TriangleMesh.create_from_point_cloud_ball_pivoting(pcd,o3d.utility.DoubleVector([radius, radius * 2]))\n",
    "    #o3d.visualization.draw([pcd]) # Draws the parabolic visualization\n",
    "    \n",
    "#bpa_mesh = o3d.geometry.TriangleMesh.create_from_point_cloud_ball_pivoting(pcd,o3d.utility.DoubleVector([radius, radius * 2]))\n",
    "    \n",
    "#dec_mesh = mesh.simplify_quadric_decimation(100000)\n",
    "#dec_mesh.remove_degenerate_triangles()\n",
    "#dec_mesh.remove_duplicated_triangles()\n",
    "#dec_mesh.remove_duplicated_vertices()\n",
    "#dec_mesh.remove_non_manifold_edges()\n",
    "\n",
    "#o3d.io.write_triangle_mesh(output_path+\"bpa_mesh.gltf\", dec_mesh)\n",
    "    #o3d.io.write_triangle_mesh(output_path+\"p_mesh_c.gltf\", p_mesh_crop)\n",
    "o3d.io.write_point_cloud(\"sample_point_cloud.pcd\", pcd)\n",
    "\n"
   ]
  },
  {
   "cell_type": "code",
   "execution_count": 5,
   "id": "05ffba36-46d4-4335-a74f-e959bd944988",
   "metadata": {},
   "outputs": [
    {
     "data": {
      "text/plain": [
       "std::vector<Eigen::Vector3d> with 0 elements.\n",
       "Use numpy.asarray() to access data."
      ]
     },
     "execution_count": 5,
     "metadata": {},
     "output_type": "execute_result"
    }
   ],
   "source": [
    "pcd.normals"
   ]
  },
  {
   "cell_type": "code",
   "execution_count": 7,
   "id": "d9ffcd6b-b4bc-4795-82c5-b91d802e78de",
   "metadata": {},
   "outputs": [
    {
     "ename": "AttributeError",
     "evalue": "module 'open3d.cuda.pybind.geometry' has no attribute 'estimate_normals'",
     "output_type": "error",
     "traceback": [
      "\u001b[0;31m---------------------------------------------------------------------------\u001b[0m",
      "\u001b[0;31mAttributeError\u001b[0m                            Traceback (most recent call last)",
      "Input \u001b[0;32mIn [7]\u001b[0m, in \u001b[0;36m<cell line: 1>\u001b[0;34m()\u001b[0m\n\u001b[0;32m----> 1\u001b[0m \u001b[43mo3d\u001b[49m\u001b[38;5;241;43m.\u001b[39;49m\u001b[43mgeometry\u001b[49m\u001b[38;5;241;43m.\u001b[39;49m\u001b[43mestimate_normals\u001b[49m(\n\u001b[1;32m      2\u001b[0m         downpcd,\n\u001b[1;32m      3\u001b[0m         search_param\u001b[38;5;241m=\u001b[39mo3d\u001b[38;5;241m.\u001b[39mgeometry\u001b[38;5;241m.\u001b[39mKDTreeSearchParamHybrid(radius\u001b[38;5;241m=\u001b[39m\u001b[38;5;241m0.1\u001b[39m,\n\u001b[1;32m      4\u001b[0m                                                           max_nn\u001b[38;5;241m=\u001b[39m\u001b[38;5;241m30\u001b[39m))\n",
      "\u001b[0;31mAttributeError\u001b[0m: module 'open3d.cuda.pybind.geometry' has no attribute 'estimate_normals'"
     ]
    }
   ],
   "source": [
    "o3d.geometry.estimate_normals(\n",
    "        downpcd,\n",
    "        search_param=o3d.geometry.KDTreeSearchParamHybrid(radius=0.1,\n",
    "                                                          max_nn=30))"
   ]
  },
  {
   "cell_type": "code",
   "execution_count": null,
   "id": "c21063c4-8779-458f-a7f1-097b9007c533",
   "metadata": {},
   "outputs": [],
   "source": []
  }
 ],
 "metadata": {
  "kernelspec": {
   "display_name": "Python 3 (ipykernel)",
   "language": "python",
   "name": "python3"
  },
  "language_info": {
   "codemirror_mode": {
    "name": "ipython",
    "version": 3
   },
   "file_extension": ".py",
   "mimetype": "text/x-python",
   "name": "python",
   "nbconvert_exporter": "python",
   "pygments_lexer": "ipython3",
   "version": "3.8.12"
  }
 },
 "nbformat": 4,
 "nbformat_minor": 5
}
